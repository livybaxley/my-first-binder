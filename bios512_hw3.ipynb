{
 "cells": [
  {
   "cell_type": "markdown",
   "id": "f1c6223f",
   "metadata": {},
   "source": [
    "Question 1\n",
    "\n",
    "Function 1 works correctly because of the double curly brace function. It is taking the unquoted column name, \n",
    "which in this case is 'type', as an argument for a later function. By using this function, R knows not to \n",
    "evaluate this function in a typical way. It can then be used later, outside of a dplyr function, without quotes."
   ]
  },
  {
   "cell_type": "markdown",
   "id": "fe38ae04",
   "metadata": {},
   "source": [
    "Question 2\n",
    "\n",
    "cd ~/Desktop\n",
    "git clone https://github.com/livybaxley/my-first-binder.git"
   ]
  },
  {
   "cell_type": "markdown",
   "id": "6867780d",
   "metadata": {},
   "source": []
  }
 ],
 "metadata": {
  "kernelspec": {
   "display_name": "R",
   "language": "R",
   "name": "ir"
  },
  "language_info": {
   "codemirror_mode": "r",
   "file_extension": ".r",
   "mimetype": "text/x-r-source",
   "name": "R",
   "pygments_lexer": "r",
   "version": "4.5.1"
  }
 },
 "nbformat": 4,
 "nbformat_minor": 5
}
