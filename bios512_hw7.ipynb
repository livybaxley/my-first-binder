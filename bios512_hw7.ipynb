{
 "cells": [
  {
   "cell_type": "markdown",
   "id": "98e8ebb7",
   "metadata": {},
   "source": [
    "**Question 1**"
   ]
  },
  {
   "cell_type": "markdown",
   "id": "7da8961d",
   "metadata": {},
   "source": [
    "The branch(the head), the working copy(the tree), and the staging area."
   ]
  },
  {
   "cell_type": "markdown",
   "id": "2b32d864",
   "metadata": {},
   "source": [
    "**Question 2**"
   ]
  },
  {
   "cell_type": "markdown",
   "id": "7da3e3ae",
   "metadata": {},
   "source": [
    "A patch is able to capture the exact differences between two versions of a file, transforming the old version into the new one. Each commit that is executed is a patch file, so a patch is the same as committing a change."
   ]
  },
  {
   "cell_type": "markdown",
   "id": "dce461fa",
   "metadata": {},
   "source": [
    "**Question 3**"
   ]
  },
  {
   "cell_type": "markdown",
   "id": "0b35e681",
   "metadata": {},
   "source": [
    "A branch represents the history of your code, which points to a commit. A fork is a copy of a repository that is permanently separate from the original. The difference lies in the fact that a branch is temporary but part of the same repository."
   ]
  },
  {
   "cell_type": "markdown",
   "id": "764fd978",
   "metadata": {},
   "source": [
    "**Question 4**"
   ]
  },
  {
   "cell_type": "markdown",
   "id": "6f593586",
   "metadata": {},
   "source": [
    "Diff is the tool that compares two files and shows their differences. It can output those differences in the form of a patch file, which contains the specific changes (additions and deletions) needed to transform one file into the other."
   ]
  },
  {
   "cell_type": "markdown",
   "id": "54999c22",
   "metadata": {},
   "source": [
    "**Question 5**"
   ]
  },
  {
   "cell_type": "markdown",
   "id": "a95579b9",
   "metadata": {},
   "source": [
    "*a)*\n",
    "The first line represents a branch, which is part of Alice's head. Bob's line represents a different branch from Alice's. The third line is another branch, not part of Alice's working copy or staging area. Each of these lines are representing different commit histories, none of which are part of the working copy or staging area.\n",
    "\n",
    "*b)* \n",
    "bob              *-*-*-*-a-b-c\n",
    "origin/main      *-*-*-*-a-b-c\n",
    "alice            *-*-*-*-a-b-c-d'-e'\n",
    "\n",
    "git fetch origin\n",
    "git rebase origin/main\n",
    "\n",
    "*c)*\n",
    "before merge:\n",
    "local-main   a-b-c-d\n",
    "remote-main  a-q-r-s-w\n",
    "\n",
    "after merge:\n",
    "local-main   a-b-c-d-q'-r'-s'-w'\n",
    "remote-main  a-q-r-s-w\n",
    "\n",
    "git fetch origin\n",
    "git merge origin/main\n",
    "git push\n",
    "\n",
    "*d)*\n",
    "Rebase is the better option because it allows for maintaining a clean, more readable history. Alice's code has not been pushed yet, so when it is pushed, it will look like it was based on the most recent and official version of code."
   ]
  },
  {
   "cell_type": "markdown",
   "id": "715b1961",
   "metadata": {},
   "source": [
    "**Question 6**"
   ]
  },
  {
   "cell_type": "markdown",
   "id": "aa411db5",
   "metadata": {},
   "source": [
    "| Command / Vocab     | Answer | Description |\n",
    "|---------------------|------------|------------|\n",
    "| git stash          | B | A.  Gives project history |\n",
    "| git push           | J | B.  Takes any changes that haven't been committed and puts them in a dust bin |\n",
    "| git clone          | N | C.  Shows who last modified each line of a file and in which commit |\n",
    "| git commit         | M | D.  Retrieves any commits on the remote branch that you don’t yet have locally and integrates them into your current branch |\n",
    "| git log            | A | E.  Moves something from the branch to the working copy |\n",
    "| git add -i         | K | F.  Lists which files are staged, unstaged, and untracked |\n",
    "| git rebase         | P | G.  Displays information about a specific commit |\n",
    "| git init           | Q | H.  Combines two branches together in a way that is not ideal for your collaborators |\n",
    "| git checkout       | E | I.  Adds changes from the working directory to the staging area |\n",
    "| git status         | F | J.  Pushes the new commits to the main branch |\n",
    "| git diff           | O | K.  Interactive staging! |\n",
    "| git merge          | H | L.  Text file that contains names of files Git should not track |\n",
    "| git add            | I | M.  Saves file changes to the main branch |\n",
    "| git pull           | D | N.  Makes a copy of an existing repo at in a new directory at another location |\n",
    "| git show           | G | O.  Compares current, unsaved changes to the main branch |\n",
    "| git blame          | C | P.  Combines branches by moving commits onto the tip of another branch, creating a linear history |\n",
    "| .gitignore         | L | Q. Creates a new git repository |"
   ]
  },
  {
   "cell_type": "markdown",
   "id": "148c8d4c",
   "metadata": {},
   "source": [
    "**Question 7**"
   ]
  },
  {
   "cell_type": "markdown",
   "id": "72933fec",
   "metadata": {},
   "source": [
    "*a)*\n",
    "Interactive staging is useful when you’ve made multiple unrelated changes in the same file but want to separate them into different commits. It lets you choose which specific changes (hunks) to include in each commit without committing everything at once.\n",
    "\n",
    "*b)*\n",
    "git status\n",
    "git diff\n",
    "\n",
    "*c)*\n",
    "git add -i\n",
    "\n",
    "*d)*\n",
    "Choose p for “patch.”\n",
    "\n",
    "*e)*\n",
    "A list of changed files will come up. Type the number of the file you want to stage and press Enter to open it in interactive staging mode.\n",
    "\n",
    "*f)*\n",
    "Type n to skip staging that hunk."
   ]
  }
 ],
 "metadata": {
  "kernelspec": {
   "display_name": "R",
   "language": "R",
   "name": "ir"
  },
  "language_info": {
   "codemirror_mode": "r",
   "file_extension": ".r",
   "mimetype": "text/x-r-source",
   "name": "R",
   "pygments_lexer": "r",
   "version": "4.5.1"
  }
 },
 "nbformat": 4,
 "nbformat_minor": 5
}
